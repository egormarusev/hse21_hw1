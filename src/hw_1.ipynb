{
 "cells": [
  {
   "cell_type": "code",
   "execution_count": 7,
   "id": "54475824",
   "metadata": {},
   "outputs": [
    {
     "name": "stdout",
     "output_type": "stream",
     "text": [
      "Contigs:\n",
      "    Количество контигов: 608, суммараня длина: 3924353, длина самого длинного контига: 179304, N50: 47611\n",
      "Scaffolds:\n",
      "    Количество скаффлдов: 70, длина: 3875212, длина самого длинного скаффолда: 3834571, N50: 3834571\n",
      "Gaps:\n",
      "    Количество гэпов (not gap closed): 65, общая длина: 6701\n",
      "    Количество гэпов (gap closed): 10, общая длина: 1921\n"
     ]
    }
   ],
   "source": [
    "import re\n",
    "\n",
    "array_contig = []\n",
    "counter = 0\n",
    "with open(\"Poil_contig.fa\") as f:\n",
    "    for line in f:\n",
    "        if line[0] == \">\":\n",
    "            array_contig.append(int(line.split(\"_\")[1][3:]))\n",
    "array_contig.sort(reverse=True)\n",
    "total_contig_length = sum(array_contig)\n",
    "total_contig_num = len(array_contig)\n",
    "max_contig = array_contig[0]\n",
    "for i in array_contig:\n",
    "    counter += i\n",
    "    if counter >= total_contig_length // 2:\n",
    "        n50 = i\n",
    "        break\n",
    "print('Contigs:')\n",
    "print(\"    Количество контигов: {}, суммараня длина: {}, длина самого длинного контига: {}, N50: {}\".format(total_contig_num, total_contig_length, max_contig, n50))\n",
    "\n",
    "array_scaffold = []\n",
    "counter = 0\n",
    "with open(\"Poil_scaffold.fa\") as f:\n",
    "    for line in f:\n",
    "        if line[0] == \">\":\n",
    "            array_scaffold.append(int(line.split(\"_\")[1][3:]))\n",
    "array_scaffold.sort(reverse=True)\n",
    "total_scaffold_length = sum(array_scaffold)\n",
    "total_scaffold_num = len(array_scaffold)\n",
    "max_scaffold = array_scaffold[0]\n",
    "for i in array_scaffold:\n",
    "    counter += i\n",
    "    if counter >= total_scaffold_length // 2:\n",
    "        n50 = i\n",
    "        break\n",
    "print('Scaffolds:')\n",
    "print(\"    Количество скаффлдов: {}, длина: {}, длина самого длинного скаффолда: {}, N50: {}\".format(total_scaffold_num, total_scaffold_length, max_scaffold, n50))\n",
    "\n",
    "print('Gaps:')\n",
    "with open(\"longest_scaffold.fa\") as f:\n",
    "    all = f.read()\n",
    "    nnn = re.findall('N{1,}', all)\n",
    "    print(\"    Количество гэпов (not gap closed): {}, общая длина: {}\".format(len(nnn), sum([len(i) for i in nnn])))\n",
    "\n",
    "with open(\"longest_closed.fa\") as f:\n",
    "    all = f.read()\n",
    "    nnn = re.findall('N{1,}', all)\n",
    "    print(\"    Количество гэпов (gap closed): {}, общая длина: {}\".format(len(nnn), sum([len(i) for i in nnn])))"
   ]
  },
  {
   "cell_type": "code",
   "execution_count": null,
   "id": "9b11c9e4",
   "metadata": {},
   "outputs": [],
   "source": []
  }
 ],
 "metadata": {
  "kernelspec": {
   "display_name": "Python 3",
   "language": "python",
   "name": "python3"
  },
  "language_info": {
   "codemirror_mode": {
    "name": "ipython",
    "version": 3
   },
   "file_extension": ".py",
   "mimetype": "text/x-python",
   "name": "python",
   "nbconvert_exporter": "python",
   "pygments_lexer": "ipython3",
   "version": "3.8.8"
  }
 },
 "nbformat": 4,
 "nbformat_minor": 5
}
